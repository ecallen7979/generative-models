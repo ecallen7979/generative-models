{
 "cells": [
  {
   "cell_type": "markdown",
   "metadata": {},
   "source": [
    "# Autoencoder plus GMM is Generative?\n",
    "\n",
    "https://jakevdp.github.io/PythonDataScienceHandbook/05.12-gaussian-mixtures.html\n"
   ]
  },
  {
   "cell_type": "code",
   "execution_count": 1,
   "metadata": {},
   "outputs": [
    {
     "name": "stderr",
     "output_type": "stream",
     "text": [
      "/Users/erikallen/.virtualenvs/generative-models/lib/python3.6/site-packages/pandas/compat/__init__.py:117: UserWarning: Could not import the lzma module. Your installed Python is incomplete. Attempting to use lzma compression will result in a RuntimeError.\n",
      "  warnings.warn(msg)\n"
     ]
    }
   ],
   "source": [
    "import numpy as np\n",
    "import pandas as pd\n",
    "from sklearn.decomposition import PCA\n",
    "import matplotlib.pyplot as plt"
   ]
  },
  {
   "cell_type": "code",
   "execution_count": 2,
   "metadata": {},
   "outputs": [],
   "source": [
    "# Load data from https://www.openml.org/d/554\n",
    "from sklearn.datasets import fetch_openml\n",
    "from sklearn.model_selection import train_test_split"
   ]
  },
  {
   "cell_type": "code",
   "execution_count": 3,
   "metadata": {},
   "outputs": [],
   "source": [
    "X, Y = fetch_openml('mnist_784', version=1, return_X_y=True)\n",
    "Y = np.array([int(o) for o in Y])\n",
    "X /= 255.0\n",
    "X = X.reshape(X.shape[0], 28, 28)\n",
    "X = np.expand_dims(X, axis=-1)"
   ]
  },
  {
   "cell_type": "code",
   "execution_count": 4,
   "metadata": {},
   "outputs": [
    {
     "name": "stdout",
     "output_type": "stream",
     "text": [
      "(60000, 28, 28, 1) <class 'numpy.ndarray'>\n"
     ]
    }
   ],
   "source": [
    "X_train, X_test, y_train, y_test = train_test_split(X, Y, test_size=1/7, random_state=42)\n",
    "print(X_train.shape, type(X_train))"
   ]
  },
  {
   "cell_type": "code",
   "execution_count": 5,
   "metadata": {},
   "outputs": [],
   "source": [
    "# import the necessary packages\n",
    "from tensorflow.keras.layers import BatchNormalization\n",
    "from tensorflow.keras.layers import Conv2D\n",
    "from tensorflow.keras.layers import Conv2DTranspose\n",
    "from tensorflow.keras.layers import LeakyReLU\n",
    "from tensorflow.keras.layers import Activation\n",
    "from tensorflow.keras.layers import Flatten\n",
    "from tensorflow.keras.layers import Dense\n",
    "from tensorflow.keras.layers import Reshape\n",
    "from tensorflow.keras.layers import Input\n",
    "from tensorflow.keras.models import Model\n",
    "from tensorflow.keras import backend as K\n",
    "import numpy as np\n",
    "\n",
    "class ConvAutoencoder:\n",
    "    @staticmethod\n",
    "    def build(width, height, depth, filters=(32, 64), latentDim=16):\n",
    "        # initialize the input shape to be \"channels last\" along with\n",
    "        # the channels dimension itself\n",
    "        # channels dimension itself\n",
    "        inputShape = (height, width, depth)\n",
    "        chanDim = -1\n",
    "\n",
    "        # define the input to the encoder\n",
    "        inputs = Input(shape=inputShape)\n",
    "        x = inputs\n",
    "\n",
    "        # loop over the number of filters\n",
    "        for f in filters:\n",
    "            # apply a CONV => RELU => BN operation\n",
    "            x = Conv2D(f, (3, 3), strides=2, padding=\"same\")(x)\n",
    "            x = LeakyReLU(alpha=0.2)(x)\n",
    "            x = BatchNormalization(axis=chanDim)(x)\n",
    "\n",
    "        # flatten the network and then construct our latent vector\n",
    "        volumeSize = K.int_shape(x)\n",
    "        x = Flatten()(x)\n",
    "        latent = Dense(latentDim)(x)\n",
    "\n",
    "        # build the encoder model\n",
    "        encoder = Model(inputs, latent, name=\"encoder\")\n",
    "\n",
    "        # start building the decoder model which will accept the\n",
    "        # output of the encoder as its inputs\n",
    "        latentInputs = Input(shape=(latentDim,))\n",
    "        x = Dense(np.prod(volumeSize[1:]))(latentInputs)\n",
    "        x = Reshape((volumeSize[1], volumeSize[2], volumeSize[3]))(x)\n",
    "\n",
    "        # loop over our number of filters again, but this time in\n",
    "        # reverse order\n",
    "        for f in filters[::-1]:\n",
    "            # apply a CONV_TRANSPOSE => RELU => BN operation\n",
    "            x = Conv2DTranspose(f, (3, 3), strides=2,\n",
    "                padding=\"same\")(x)\n",
    "            x = LeakyReLU(alpha=0.2)(x)\n",
    "            x = BatchNormalization(axis=chanDim)(x)\n",
    "\n",
    "        # apply a single CONV_TRANSPOSE layer used to recover the\n",
    "        # original depth of the image\n",
    "        x = Conv2DTranspose(depth, (3, 3), padding=\"same\")(x)\n",
    "        outputs = Activation(\"sigmoid\")(x)\n",
    "\n",
    "        # build the decoder model\n",
    "        decoder = Model(latentInputs, outputs, name=\"decoder\")\n",
    "\n",
    "        # our autoencoder is the encoder + decoder\n",
    "        autoencoder = Model(inputs, decoder(encoder(inputs)),\n",
    "            name=\"autoencoder\")\n",
    "\n",
    "        # return a 3-tuple of the encoder, decoder, and autoencoder\n",
    "        return (encoder, decoder, autoencoder)"
   ]
  },
  {
   "cell_type": "code",
   "execution_count": 6,
   "metadata": {},
   "outputs": [],
   "source": [
    "from tensorflow.keras.optimizers import Adam\n",
    "from tensorflow.keras.datasets import mnist\n",
    "import matplotlib.pyplot as plt\n",
    "# initialize the number of epochs to train for and batch size\n",
    "EPOCHS = 25\n",
    "BS = 32"
   ]
  },
  {
   "cell_type": "code",
   "execution_count": 7,
   "metadata": {},
   "outputs": [
    {
     "name": "stdout",
     "output_type": "stream",
     "text": [
      "[INFO] building autoencoder...\n",
      "Train on 60000 samples, validate on 10000 samples\n",
      "Epoch 1/25\n",
      "60000/60000 [==============================] - 70s 1ms/sample - loss: 0.0182 - val_loss: 0.0108\n",
      "Epoch 2/25\n",
      "60000/60000 [==============================] - 71s 1ms/sample - loss: 0.0103 - val_loss: 0.0097\n",
      "Epoch 3/25\n",
      "60000/60000 [==============================] - 70s 1ms/sample - loss: 0.0093 - val_loss: 0.0090\n",
      "Epoch 4/25\n",
      "60000/60000 [==============================] - 69s 1ms/sample - loss: 0.0088 - val_loss: 0.0087\n",
      "Epoch 5/25\n",
      "60000/60000 [==============================] - 69s 1ms/sample - loss: 0.0084 - val_loss: 0.0082\n",
      "Epoch 6/25\n",
      "60000/60000 [==============================] - 68s 1ms/sample - loss: 0.0081 - val_loss: 0.0084\n",
      "Epoch 7/25\n",
      "60000/60000 [==============================] - 69s 1ms/sample - loss: 0.0079 - val_loss: 0.0080\n",
      "Epoch 8/25\n",
      "60000/60000 [==============================] - 69s 1ms/sample - loss: 0.0077 - val_loss: 0.0078\n",
      "Epoch 9/25\n",
      "60000/60000 [==============================] - 70s 1ms/sample - loss: 0.0075 - val_loss: 0.0075\n",
      "Epoch 10/25\n",
      "60000/60000 [==============================] - 73s 1ms/sample - loss: 0.0074 - val_loss: 0.0075\n",
      "Epoch 11/25\n",
      "60000/60000 [==============================] - 73s 1ms/sample - loss: 0.0073 - val_loss: 0.0074\n",
      "Epoch 12/25\n",
      "60000/60000 [==============================] - 74s 1ms/sample - loss: 0.0072 - val_loss: 0.0074\n",
      "Epoch 13/25\n",
      "60000/60000 [==============================] - 71s 1ms/sample - loss: 0.0071 - val_loss: 0.0073\n",
      "Epoch 14/25\n",
      "60000/60000 [==============================] - 72s 1ms/sample - loss: 0.0071 - val_loss: 0.0073\n",
      "Epoch 15/25\n",
      "60000/60000 [==============================] - 72s 1ms/sample - loss: 0.0070 - val_loss: 0.0070\n",
      "Epoch 16/25\n",
      "60000/60000 [==============================] - 73s 1ms/sample - loss: 0.0069 - val_loss: 0.0071\n",
      "Epoch 17/25\n",
      "60000/60000 [==============================] - 72s 1ms/sample - loss: 0.0069 - val_loss: 0.0071\n",
      "Epoch 18/25\n",
      "60000/60000 [==============================] - 72s 1ms/sample - loss: 0.0068 - val_loss: 0.0070\n",
      "Epoch 19/25\n",
      "60000/60000 [==============================] - 71s 1ms/sample - loss: 0.0068 - val_loss: 0.0070\n",
      "Epoch 20/25\n",
      "60000/60000 [==============================] - 71s 1ms/sample - loss: 0.0067 - val_loss: 0.0070\n",
      "Epoch 21/25\n",
      "60000/60000 [==============================] - 71s 1ms/sample - loss: 0.0067 - val_loss: 0.0069\n",
      "Epoch 22/25\n",
      "60000/60000 [==============================] - 71s 1ms/sample - loss: 0.0066 - val_loss: 0.0068\n",
      "Epoch 23/25\n",
      "60000/60000 [==============================] - 71s 1ms/sample - loss: 0.0066 - val_loss: 0.0069\n",
      "Epoch 24/25\n",
      "60000/60000 [==============================] - 71s 1ms/sample - loss: 0.0066 - val_loss: 0.0068\n",
      "Epoch 25/25\n",
      "60000/60000 [==============================] - 72s 1ms/sample - loss: 0.0065 - val_loss: 0.0068\n"
     ]
    },
    {
     "data": {
      "image/png": "[encoded data removed]",
      "text/plain": [
       "<Figure size 432x288 with 1 Axes>"
      ]
     },
     "metadata": {},
     "output_type": "display_data"
    }
   ],
   "source": [
    "# construct our convolutional autoencoder\n",
    "print(\"[INFO] building autoencoder...\")\n",
    "(encoder, decoder, autoencoder) = ConvAutoencoder.build(28, 28, 1)\n",
    "opt = Adam(lr=1e-3)\n",
    "autoencoder.compile(loss=\"mse\", optimizer=opt)\n",
    "\n",
    "# train the convolutional autoencoder\n",
    "H = autoencoder.fit(\n",
    "    X_train, X_train,\n",
    "    validation_data=(X_test, X_test),\n",
    "    epochs=EPOCHS,\n",
    "    batch_size=BS)\n",
    "\n",
    "# construct a plot that plots and saves the training history\n",
    "N = np.arange(0, EPOCHS)\n",
    "plt.style.use(\"ggplot\")\n",
    "plt.figure()\n",
    "plt.plot(N, H.history[\"loss\"], label=\"train_loss\")\n",
    "plt.plot(N, H.history[\"val_loss\"], label=\"val_loss\")\n",
    "plt.title(\"Training Loss and Accuracy\")\n",
    "plt.xlabel(\"Epoch #\")\n",
    "plt.ylabel(\"Loss/Accuracy\")\n",
    "plt.legend(loc=\"lower left\")\n",
    "plt.show()"
   ]
  },
  {
   "cell_type": "code",
   "execution_count": 8,
   "metadata": {},
   "outputs": [
    {
     "name": "stdout",
     "output_type": "stream",
     "text": [
      "[INFO] making predictions...\n"
     ]
    }
   ],
   "source": [
    "# use the convolutional autoencoder to make predictions on the\n",
    "# testing images, then initialize our list of output images\n",
    "print(\"[INFO] making predictions...\")\n",
    "Xp_test = autoencoder.predict(X_test)\n",
    "Xp_train = autoencoder.predict(X_train)\n",
    "outputs = None"
   ]
  },
  {
   "cell_type": "code",
   "execution_count": 9,
   "metadata": {},
   "outputs": [
    {
     "name": "stdout",
     "output_type": "stream",
     "text": [
      "0.006352014564989269 0.006809508558875377\n"
     ]
    }
   ],
   "source": [
    "mse_train = (np.square(Xp_train - X_train)).mean(axis=None)\n",
    "mse_test = (np.square(Xp_test - X_test)).mean(axis=None)\n",
    "print(mse_train, mse_test)"
   ]
  },
  {
   "cell_type": "code",
   "execution_count": 10,
   "metadata": {},
   "outputs": [
    {
     "data": {
      "image/png": "[encoded data removed]",
      "text/plain": [
       "<Figure size 1440x288 with 20 Axes>"
      ]
     },
     "metadata": {},
     "output_type": "display_data"
    }
   ],
   "source": [
    "n = 10\n",
    "plt.figure(figsize=(20, 4))\n",
    "for i in range(1,n+1):\n",
    "    # display original\n",
    "    ax = plt.subplot(2, n, i)\n",
    "    plt.imshow(X_test[i].reshape(28, 28))\n",
    "    plt.gray()\n",
    "    ax.get_xaxis().set_visible(False)\n",
    "    ax.get_yaxis().set_visible(False)\n",
    "\n",
    "    # display reconstruction\n",
    "    ax = plt.subplot(2, n, i + n)\n",
    "    plt.imshow(Xp_test[i].reshape(28, 28))\n",
    "    plt.gray()\n",
    "    ax.get_xaxis().set_visible(False)\n",
    "    ax.get_yaxis().set_visible(False)\n",
    "plt.show()"
   ]
  },
  {
   "cell_type": "code",
   "execution_count": 14,
   "metadata": {},
   "outputs": [
    {
     "name": "stderr",
     "output_type": "stream",
     "text": [
      "/Users/erikallen/.virtualenvs/generative-models/lib/python3.6/site-packages/sklearn/mixture/_base.py:267: ConvergenceWarning: Initialization 1 did not converge. Try different init parameters, or increase max_iter, tol or check for degenerate data.\n",
      "  % (init + 1), ConvergenceWarning)\n"
     ]
    },
    {
     "name": "stdout",
     "output_type": "stream",
     "text": [
      "False\n",
      "(array([[  8.18738905, -34.64519849, -32.47127613, ...,  29.24915167,\n",
      "        -23.18861876,  22.74935693],\n",
      "       [ -1.77316357, -21.66546866,  29.70412481, ...,   9.35831212,\n",
      "         40.23066198,  15.55354845],\n",
      "       [-20.27367548, -24.9472682 ,  30.25482528, ...,  26.64591055,\n",
      "         50.06760126,   1.5751941 ],\n",
      "       ...,\n",
      "       [-22.56592329,  57.13152694, -21.17716708, ...,  29.97455459,\n",
      "         13.9672806 ,  44.13788394],\n",
      "       [ 17.33192671,  40.10288881,  -2.76922694, ...,  17.34173928,\n",
      "         28.1214233 ,  14.45247897],\n",
      "       [ 15.1908943 ,  37.24645973,   6.72861146, ...,  16.46067648,\n",
      "         21.01926327,   3.76821731]]), array([  0,   1,   1,   2,   2,   3,   3,   5,   6,   7,   8,   8,   8,\n",
      "         8,   9,  10,  11,  12,  13,  13,  17,  17,  17,  18,  19,  19,\n",
      "        20,  21,  21,  22,  23,  25,  27,  27,  28,  29,  31,  32,  33,\n",
      "        36,  37,  38,  38,  39,  40,  42,  44,  45,  49,  50,  52,  52,\n",
      "        52,  52,  52,  52,  56,  56,  58,  62,  62,  66,  68,  68,  70,\n",
      "        70,  70,  70,  71,  72,  72,  72,  73,  74,  81,  83,  84,  86,\n",
      "        88,  89,  89,  91,  93,  96,  98,  98,  98, 100, 101, 102, 103,\n",
      "       103, 103, 105, 106, 107, 108, 108, 108, 109]))\n",
      "WARNING:tensorflow:Layer dense_1 is casting an input tensor from dtype float64 to the layer's dtype of float32, which is new behavior in TensorFlow 2.  The layer has dtype float32 because it's dtype defaults to floatx.\n",
      "\n",
      "If you intended to run this layer in float32, you can safely ignore this warning. If in doubt, this warning is likely only an issue if you are porting a TensorFlow 1.X model to TensorFlow 2.\n",
      "\n",
      "To change all layers to have dtype float64 by default, call `tf.keras.backend.set_floatx('float64')`. To change just this layer, pass dtype='float64' to the layer constructor. If you are the author of this layer, you can disable autocasting by passing autocast=False to the base Layer constructor.\n",
      "\n"
     ]
    }
   ],
   "source": [
    "from sklearn.mixture import BayesianGaussianMixture\n",
    "z = encoder(X_train)\n",
    "gmm = BayesianGaussianMixture(110, covariance_type='full', random_state=0)\n",
    "gmm.fit(z)\n",
    "print(gmm.converged_)\n",
    "\n",
    "z_new = gmm.sample(100)\n",
    "print(z_new)\n",
    "\n",
    "digits_new = decoder(z_new)\n"
   ]
  },
  {
   "cell_type": "code",
   "execution_count": 17,
   "metadata": {},
   "outputs": [
    {
     "name": "stdout",
     "output_type": "stream",
     "text": [
      "(28, 28, 1)\n"
     ]
    }
   ],
   "source": [
    "print(digits_new[0].shape)"
   ]
  },
  {
   "cell_type": "markdown",
   "metadata": {},
   "source": [
    "# Denoising"
   ]
  },
  {
   "cell_type": "code",
   "execution_count": null,
   "metadata": {},
   "outputs": [],
   "source": [
    "noise_factor = 0.5\n",
    "X_train_noisy = X_train + noise_factor * np.random.normal(loc=0.0, scale=1.0, size=X_train.shape)\n",
    "X_test_noisy = X_test + noise_factor * np.random.normal(loc=0.0, scale=1.0, size=X_test.shape)\n",
    "X_train_noisy = np.clip(X_train_noisy, 0., 1.)\n",
    "X_test_noisy = np.clip(X_test_noisy, 0., 1.)"
   ]
  },
  {
   "cell_type": "code",
   "execution_count": null,
   "metadata": {},
   "outputs": [],
   "source": [
    "# construct our convolutional autoencoder\n",
    "print(\"[INFO] building autoencoder...\")\n",
    "(encoder, decoder, autoencoder) = ConvAutoencoder.build(28, 28, 1)\n",
    "opt = Adam(lr=1e-3)\n",
    "autoencoder.compile(loss=\"mse\", optimizer=opt)\n",
    "\n",
    "# train the convolutional autoencoder\n",
    "H = autoencoder.fit(\n",
    "    X_train_noisy, X_train_noisy,\n",
    "    validation_data=(X_test_noisy, X_test_noisy),\n",
    "    epochs=EPOCHS,\n",
    "    batch_size=BS)\n",
    "\n",
    "# construct a plot that plots and saves the training history\n",
    "N = np.arange(0, EPOCHS)\n",
    "plt.style.use(\"ggplot\")\n",
    "plt.figure()\n",
    "plt.plot(N, H.history[\"loss\"], label=\"train_loss\")\n",
    "plt.plot(N, H.history[\"val_loss\"], label=\"val_loss\")\n",
    "plt.title(\"Training Loss and Accuracy\")\n",
    "plt.xlabel(\"Epoch #\")\n",
    "plt.ylabel(\"Loss/Accuracy\")\n",
    "plt.legend(loc=\"lower left\")\n",
    "plt.show()"
   ]
  },
  {
   "cell_type": "code",
   "execution_count": null,
   "metadata": {},
   "outputs": [],
   "source": [
    "# use the convolutional autoencoder to make predictions on the\n",
    "# testing images, then initialize our list of output images\n",
    "print(\"[INFO] making predictions...\")\n",
    "Xp_test_noisy = autoencoder.predict(X_test_noisy)\n",
    "Xp_train_noisy = autoencoder.predict(X_train_noisy)\n",
    "outputs = None"
   ]
  },
  {
   "cell_type": "code",
   "execution_count": null,
   "metadata": {},
   "outputs": [],
   "source": [
    "mse_train = (np.square(Xp_train_noisy - X_train)).mean(axis=None)\n",
    "mse_test = (np.square(Xp_test_noisy - X_test)).mean(axis=None)\n",
    "print(mse_train, mse_test)"
   ]
  },
  {
   "cell_type": "code",
   "execution_count": null,
   "metadata": {},
   "outputs": [],
   "source": [
    "n = 10\n",
    "plt.figure(figsize=(30, 4))\n",
    "for i in range(1,n+1):\n",
    "    # display original\n",
    "    ax = plt.subplot(3, n, i)\n",
    "    plt.imshow(X_test[i].reshape(28, 28))\n",
    "    plt.gray()\n",
    "    ax.get_xaxis().set_visible(False)\n",
    "    ax.get_yaxis().set_visible(False)\n",
    "\n",
    "    # display noisy\n",
    "    ax = plt.subplot(3, n, i + n)\n",
    "    plt.imshow(X_test_noisy[i].reshape(28, 28))\n",
    "    plt.gray()\n",
    "    ax.get_xaxis().set_visible(False)\n",
    "    ax.get_yaxis().set_visible(False)\n",
    "\n",
    "    # display reconstruction\n",
    "    ax = plt.subplot(3, n, i + 2 * n)\n",
    "    plt.imshow(Xp_test_noisy[i].reshape(28, 28))\n",
    "    plt.gray()\n",
    "    ax.get_xaxis().set_visible(False)\n",
    "    ax.get_yaxis().set_visible(False)\n",
    "plt.show()"
   ]
  },
  {
   "cell_type": "code",
   "execution_count": null,
   "metadata": {},
   "outputs": [],
   "source": []
  }
 ],
 "metadata": {
  "kernelspec": {
   "display_name": "Python 3",
   "language": "python",
   "name": "python3"
  },
  "language_info": {
   "codemirror_mode": {
    "name": "ipython",
    "version": 3
   },
   "file_extension": ".py",
   "mimetype": "text/x-python",
   "name": "python",
   "nbconvert_exporter": "python",
   "pygments_lexer": "ipython3",
   "version": "3.6.6"
  }
 },
 "nbformat": 4,
 "nbformat_minor": 4
}

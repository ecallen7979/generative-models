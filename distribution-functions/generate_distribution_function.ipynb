{
 "cells": [
  {
   "cell_type": "markdown",
   "metadata": {},
   "source": [
    "# Generating Distributions"
   ]
  },
  {
   "cell_type": "markdown",
   "metadata": {},
   "source": [
    "A key activity in Monte Carlo modeling is to sample random numbers from a distribution.  Numpy contains implementations for a number of distributions, include uniform (every value between 0 and 1 is equally likely) and normal (values are gaussian distributed with mean 0 and standard deviation 1).\n",
    "\n",
    "There are other types of distributions one might wish to draw from, and that is where generating distributions come from.  This represents the simplest type of \"generative model\" we can envision - we choose it not because it is a hard problem, but rather because it is a simple way to conceive of the generative modeling problem and develop intuition on the problem.\n",
    "\n",
    "h/t to https://www.born2data.com/2017/generative_models-part1.html.  I drew inspiration from this post as a good way to begin to get a handing on generative models from an intuitive point of view"
   ]
  },
  {
   "cell_type": "markdown",
   "metadata": {},
   "source": [
    "## Theory"
   ]
  },
  {
   "cell_type": "markdown",
   "metadata": {},
   "source": [
    "Any distribution can be approximated by Inverse Transform Sampling: https://en.wikipedia.org/wiki/Inverse_transform_sampling\n",
    "\n",
    "All that is needed is a random uniform sampling function.  We assume here that we have a method of generating such a uniform sample (recognizing that approximating uniform distributions is itself an algorithmic process).  \n",
    "\n",
    "(From Wikiperdia) Inverse transformation sampling takes uniform samples of a number $u$ between 0 and 1, interpreted as a probability, and then returns the largest number $x$ from the domain of the distribution $P(X)$ such that $P(-\\infty <X<x)\\leq u$. (End from Wikipedia)\n",
    "\n",
    "This requires a cumulative distribution function (CDF) and a method of calculating it's inverse."
   ]
  },
  {
   "cell_type": "markdown",
   "metadata": {},
   "source": [
    "## Normal Distribution"
   ]
  },
  {
   "cell_type": "markdown",
   "metadata": {},
   "source": [
    "We generate a normal distribution from an input of the uniform normal distribution\n",
    "\n",
    "Scipy contains a method to calculate the Inverse CDF - $ppf$ or the \"Percent Point Function\"\n",
    "https://docs.scipy.org/doc/scipy/reference/generated/scipy.stats.norm.html"
   ]
  },
  {
   "cell_type": "code",
   "execution_count": 10,
   "metadata": {},
   "outputs": [],
   "source": [
    "from scipy.stats import norm\n",
    "import numpy as np"
   ]
  },
  {
   "cell_type": "code",
   "execution_count": 20,
   "metadata": {},
   "outputs": [],
   "source": [
    "# Local implementation of random normal\n",
    "def randn(size: int, mu: float, sigma: float) -> float:\n",
    "    rnd = np.random.rand(size) # Uniform random\n",
    "    return norm(mu, sigma).ppf(rnd)"
   ]
  },
  {
   "cell_type": "markdown",
   "metadata": {},
   "source": [
    "### Validation"
   ]
  },
  {
   "cell_type": "code",
   "execution_count": 26,
   "metadata": {},
   "outputs": [
    {
     "name": "stdout",
     "output_type": "stream",
     "text": [
      "PPF of 0.5 should equal 0: 0.0 \n",
      "\n",
      "CDF of PPF of should return original value.\n",
      "Original Value is: 0.5 \n",
      "CDF of PPF is: 0.5\n"
     ]
    }
   ],
   "source": [
    "unit_normal = norm(0, 1)\n",
    "print(\"PPF of 0.5 should equal 0:\", unit_normal.ppf(0.5), \"\\n\")\n",
    "print(\"CDF of PPF of should return original value.\\nOriginal Value is:\", 0.5, \n",
    "      \"\\nCDF of PPF is:\", unit_normal.cdf(unit_normal.ppf(0.5)))"
   ]
  },
  {
   "cell_type": "code",
   "execution_count": 29,
   "metadata": {},
   "outputs": [
    {
     "name": "stdout",
     "output_type": "stream",
     "text": [
      "Mean and Standard Deviation of our Random Normal Distribution\n",
      "Mean: 0.002609186718757667 \n",
      "Std: 1.0024224098673882 \n",
      "\n",
      "\n",
      "Mean and Standard Deviation of our Random Normal Distribution\n",
      "Mean: 20.064571141068157 \n",
      "Std: 13.950557959498479 \n",
      "\n",
      "\n"
     ]
    }
   ],
   "source": [
    "# Generate 100,000 random numbers from randn, and compute mean and std\n",
    "z = randn(100000, 0, 1)\n",
    "print(\"Mean and Standard Deviation of our Random Normal Distribution\\nMean:\", np.mean(z), \"\\nStd:\", np.std(z), \"\\n\\n\")\n",
    "\n",
    "z = randn(100000, 20, 14)\n",
    "print(\"Mean and Standard Deviation of our Random Normal Distribution\\nMean:\", np.mean(z), \"\\nStd:\", np.std(z), \"\\n\\n\")"
   ]
  },
  {
   "cell_type": "code",
   "execution_count": null,
   "metadata": {},
   "outputs": [],
   "source": []
  }
 ],
 "metadata": {
  "kernelspec": {
   "display_name": "Python 3",
   "language": "python",
   "name": "python3"
  },
  "language_info": {
   "codemirror_mode": {
    "name": "ipython",
    "version": 3
   },
   "file_extension": ".py",
   "mimetype": "text/x-python",
   "name": "python",
   "nbconvert_exporter": "python",
   "pygments_lexer": "ipython3",
   "version": "3.6.6"
  }
 },
 "nbformat": 4,
 "nbformat_minor": 4
}
